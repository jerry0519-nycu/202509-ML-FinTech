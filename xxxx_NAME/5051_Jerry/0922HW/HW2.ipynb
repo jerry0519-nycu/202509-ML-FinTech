{
 "cells": [
  {
   "cell_type": "code",
   "execution_count": 4,
   "id": "6b6cd27b-5872-4d08-a58c-ce70b5bbb2ed",
   "metadata": {},
   "outputs": [],
   "source": [
    "import pandas as pd\n",
    "import numpy as np\n",
    "\n",
    "data_url = \"http://lib.stat.cmu.edu/datasets/boston\"\n",
    "raw_df = pd.read_csv(data_url, sep=\"\\s+\", skiprows=22, header=None)\n",
    "\n",
    "data = np.hstack([raw_df.values[::2, :], raw_df.values[1::2, :2]])\n",
    "target = raw_df.values[1::2, 2]\n",
    "\n",
    "columns = [\n",
    "    \"CRIM\",\"ZN\",\"INDUS\",\"CHAS\",\"NOX\",\"RM\",\"AGE\",\"DIS\",\"RAD\",\"TAX\",\"PTRATIO\",\n",
    "    \"B\",\"LSTAT\"\n",
    "]\n",
    "boston = pd.DataFrame(data, columns=columns)\n",
    "boston[\"MEDV\"] = target\n",
    "\n"
   ]
  },
  {
   "cell_type": "code",
   "execution_count": 5,
   "id": "65fc7e43-3e74-4d64-8cc7-69deffd862e8",
   "metadata": {},
   "outputs": [
    {
     "name": "stdout",
     "output_type": "stream",
     "text": [
      "Shape of dataset: (506, 14)\n",
      "First five rows:\n",
      "       CRIM    ZN  INDUS  CHAS    NOX     RM   AGE     DIS  RAD    TAX  \\\n",
      "0  0.00632  18.0   2.31   0.0  0.538  6.575  65.2  4.0900  1.0  296.0   \n",
      "1  0.02731   0.0   7.07   0.0  0.469  6.421  78.9  4.9671  2.0  242.0   \n",
      "2  0.02729   0.0   7.07   0.0  0.469  7.185  61.1  4.9671  2.0  242.0   \n",
      "3  0.03237   0.0   2.18   0.0  0.458  6.998  45.8  6.0622  3.0  222.0   \n",
      "4  0.06905   0.0   2.18   0.0  0.458  7.147  54.2  6.0622  3.0  222.0   \n",
      "\n",
      "   PTRATIO       B  LSTAT  MEDV  \n",
      "0     15.3  396.90   4.98  24.0  \n",
      "1     17.8  396.90   9.14  21.6  \n",
      "2     17.8  392.83   4.03  34.7  \n",
      "3     18.7  394.63   2.94  33.4  \n",
      "4     18.7  396.90   5.33  36.2  \n",
      "Summary statistics:\n",
      "              CRIM          ZN       INDUS        CHAS         NOX          RM  \\\n",
      "count  506.000000  506.000000  506.000000  506.000000  506.000000  506.000000   \n",
      "mean     3.613524   11.363636   11.136779    0.069170    0.554695    6.284634   \n",
      "std      8.601545   23.322453    6.860353    0.253994    0.115878    0.702617   \n",
      "min      0.006320    0.000000    0.460000    0.000000    0.385000    3.561000   \n",
      "25%      0.082045    0.000000    5.190000    0.000000    0.449000    5.885500   \n",
      "50%      0.256510    0.000000    9.690000    0.000000    0.538000    6.208500   \n",
      "75%      3.677083   12.500000   18.100000    0.000000    0.624000    6.623500   \n",
      "max     88.976200  100.000000   27.740000    1.000000    0.871000    8.780000   \n",
      "\n",
      "              AGE         DIS         RAD         TAX     PTRATIO           B  \\\n",
      "count  506.000000  506.000000  506.000000  506.000000  506.000000  506.000000   \n",
      "mean    68.574901    3.795043    9.549407  408.237154   18.455534  356.674032   \n",
      "std     28.148861    2.105710    8.707259  168.537116    2.164946   91.294864   \n",
      "min      2.900000    1.129600    1.000000  187.000000   12.600000    0.320000   \n",
      "25%     45.025000    2.100175    4.000000  279.000000   17.400000  375.377500   \n",
      "50%     77.500000    3.207450    5.000000  330.000000   19.050000  391.440000   \n",
      "75%     94.075000    5.188425   24.000000  666.000000   20.200000  396.225000   \n",
      "max    100.000000   12.126500   24.000000  711.000000   22.000000  396.900000   \n",
      "\n",
      "            LSTAT        MEDV  \n",
      "count  506.000000  506.000000  \n",
      "mean    12.653063   22.532806  \n",
      "std      7.141062    9.197104  \n",
      "min      1.730000    5.000000  \n",
      "25%      6.950000   17.025000  \n",
      "50%     11.360000   21.200000  \n",
      "75%     16.955000   25.000000  \n",
      "max     37.970000   50.000000  \n"
     ]
    }
   ],
   "source": [
    "# 查看資料形狀\n",
    "print(\"Shape of dataset:\", boston.shape)\n",
    "\n",
    "# 查看前五列\n",
    "print(\"First five rows:\\n\", boston.head())\n",
    "\n",
    "# 數值摘要\n",
    "print(\"Summary statistics:\\n\", boston.describe())\n"
   ]
  },
  {
   "cell_type": "code",
   "execution_count": null,
   "id": "e2760dcf-4179-4e1a-b2f1-087054dbcdea",
   "metadata": {},
   "outputs": [],
   "source": [
    "import matplotlib.pyplot as plt\n",
    "from pandas.plotting import scatter_matrix\n",
    "\n",
    "scatter_matrix(boston, figsize=(12,12))\n",
    "plt.show()\n"
   ]
  },
  {
   "cell_type": "code",
   "execution_count": null,
   "id": "c827a3e2-4df6-4a64-9f18-57c35ba55f80",
   "metadata": {},
   "outputs": [],
   "source": [
    "boston.corr()['CRIM'].sort_values()\n"
   ]
  },
  {
   "cell_type": "code",
   "execution_count": null,
   "id": "5de9e26f-11ec-4388-a2c7-6888631845c0",
   "metadata": {},
   "outputs": [],
   "source": [
    "print(\"Max CRIM:\", boston['CRIM'].max())\n",
    "print(\"Max TAX:\", boston['TAX'].max())\n",
    "print(\"Max PTRATIO:\", boston['PTRATIO'].max())\n"
   ]
  },
  {
   "cell_type": "code",
   "execution_count": null,
   "id": "f59474c7-ab6b-45dd-810a-b94648fd44ca",
   "metadata": {},
   "outputs": [],
   "source": [
    "boston['CHAS'].sum()  \n"
   ]
  },
  {
   "cell_type": "code",
   "execution_count": null,
   "id": "f61d304f-39b4-4850-bdb3-ce8c601af56f",
   "metadata": {},
   "outputs": [],
   "source": [
    "boston['PTRATIO'].median()\n"
   ]
  },
  {
   "cell_type": "code",
   "execution_count": null,
   "id": "186ca24d-883e-4f05-ba5e-aa6c774f4f99",
   "metadata": {},
   "outputs": [],
   "source": [
    "lowest_medv_idx = boston['MEDV'].idxmin()\n",
    "boston.loc[lowest_medv_idx]\n"
   ]
  },
  {
   "cell_type": "code",
   "execution_count": null,
   "id": "c44c3e18-26aa-4d6f-b63a-f07ff6947cfe",
   "metadata": {},
   "outputs": [],
   "source": [
    "print(\"Suburbs with RM > 7:\", (boston['RM'] > 7).sum())\n",
    "print(\"Suburbs with RM > 8:\", (boston['RM'] > 8).sum())\n"
   ]
  }
 ],
 "metadata": {
  "kernelspec": {
   "display_name": "Python [conda env:base] *",
   "language": "python",
   "name": "conda-base-py"
  },
  "language_info": {
   "codemirror_mode": {
    "name": "ipython",
    "version": 3
   },
   "file_extension": ".py",
   "mimetype": "text/x-python",
   "name": "python",
   "nbconvert_exporter": "python",
   "pygments_lexer": "ipython3",
   "version": "3.13.5"
  }
 },
 "nbformat": 4,
 "nbformat_minor": 5
}
